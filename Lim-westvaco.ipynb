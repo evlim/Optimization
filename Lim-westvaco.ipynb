{
 "cells": [
  {
   "cell_type": "markdown",
   "metadata": {},
   "source": [
    "# WestVaco"
   ]
  },
  {
   "cell_type": "markdown",
   "metadata": {},
   "source": [
    "## Introduction\n",
    "Westvaco Company is a manufacturer that sells packaging supplies including paper, paperboard, and specialty chemicals. The objective of this case is to automate the truckload assignment process in distribution that was done manually. The truckload assignment is based on the least cost distribution plan according to the cost of taking each route by different carriers."
   ]
  },
  {
   "cell_type": "markdown",
   "metadata": {},
   "source": [
    "For this particular distribution model, we will be looking at 12 routes with 6 different carriers:\n",
    "\n",
    "Routes: Atlanta GA, Everett MA, Ephrata PA, Riverview MI, Carson CA, Chamblee GA, Roseville MN, Hanover PA, Sparks NV, Parsippany NJ, Effingham IL, Kearny NJ\n",
    "\n",
    "Carriers: ABCT, IRST, LAST, MRST, NEST, PSST\n"
   ]
  },
  {
   "cell_type": "markdown",
   "metadata": {},
   "source": [
    "## Model"
   ]
  },
  {
   "cell_type": "markdown",
   "metadata": {},
   "source": [
    "### Model Setup"
   ]
  },
  {
   "cell_type": "code",
   "execution_count": 1,
   "metadata": {},
   "outputs": [
    {
     "name": "stdout",
     "output_type": "stream",
     "text": [
      "Using license file C:\\Users\\Evan\\gurobi.lic\n",
      "Academic license - for non-commercial use only\n"
     ]
    }
   ],
   "source": [
    "from gurobipy import *\n",
    "import pandas as pd\n",
    "m = Model('westvaco')\n",
    "\n",
    "# 12 elements vectors\n",
    "Destinations = ['Atlanta GA','Everett MA','Ephrata PA',\n",
    "          'Riverview MI','Carson CA',\n",
    "          'Chamblee GA','Roseville MN',\n",
    "          'Hanover PA','Sparks NV',\n",
    "          'Parsippany NJ','Effingham IL',\n",
    "          'Kearny NJ']\n",
    "Trips = [4,1,3,5,1,1,1,1,2,1,5,7]\n",
    "Stops = [0,3,0,0,2,0,3,0,0,1,0,0]\n",
    "Miles = [612,612,190,383,3063,429,600,136,2439,355,570,324]\n",
    "\n",
    "## Main data frame components subsituded * with 99, can do the same with for loops as well\n",
    "ABCT = [99,99,99,0.79,99,99,1.24,99,99,99,0.87,99]\n",
    "IRST = [0.88,1.18,3.42,1.01,0.8,1.23,1.13,4.78,1.45,1.62,0.87,2.01]\n",
    "LAST = [1.15,1.27,1.73,1.25,0.87,1.61,1.89,2.23,99,1.36,1.25,1.54]\n",
    "MRST = [0.87,1.39,1.71,0.96,99,1.22,1.32,2.39,1.2,1.39,0.87,1.53]\n",
    "NEST = [0.95,1.35,1.82,0.95,1,1.33,1.41,2.26,99,1.03,0.9,1.28]\n",
    "PSST = [1.05,1.28,2,1.11,99,1.47,1.41,2.57,99,1.76,1.31,1.95]\n",
    "\n",
    "# 6 elements vectors\n",
    "MinimumCharge = [350,400,350,300,350,300]\n",
    "StopCharge = [50,75,50,35,50,50]\n",
    "\n",
    "# Constraints variables\n",
    "Commitment = [1,7,6,0,0,4]\n",
    "Available = [4,8,7,7,3,4]"
   ]
  },
  {
   "cell_type": "code",
   "execution_count": 2,
   "metadata": {},
   "outputs": [
    {
     "data": {
      "text/html": [
       "<div>\n",
       "<style scoped>\n",
       "    .dataframe tbody tr th:only-of-type {\n",
       "        vertical-align: middle;\n",
       "    }\n",
       "\n",
       "    .dataframe tbody tr th {\n",
       "        vertical-align: top;\n",
       "    }\n",
       "\n",
       "    .dataframe thead th {\n",
       "        text-align: right;\n",
       "    }\n",
       "</style>\n",
       "<table border=\"1\" class=\"dataframe\">\n",
       "  <thead>\n",
       "    <tr style=\"text-align: right;\">\n",
       "      <th></th>\n",
       "      <th>ABCT</th>\n",
       "      <th>IRST</th>\n",
       "      <th>LAST</th>\n",
       "      <th>MRST</th>\n",
       "      <th>NEST</th>\n",
       "      <th>PSST</th>\n",
       "    </tr>\n",
       "  </thead>\n",
       "  <tbody>\n",
       "    <tr>\n",
       "      <th>Atlanta GA</th>\n",
       "      <td>99.00</td>\n",
       "      <td>0.88</td>\n",
       "      <td>1.15</td>\n",
       "      <td>0.87</td>\n",
       "      <td>0.95</td>\n",
       "      <td>1.05</td>\n",
       "    </tr>\n",
       "    <tr>\n",
       "      <th>Everett MA</th>\n",
       "      <td>99.00</td>\n",
       "      <td>1.18</td>\n",
       "      <td>1.27</td>\n",
       "      <td>1.39</td>\n",
       "      <td>1.35</td>\n",
       "      <td>1.28</td>\n",
       "    </tr>\n",
       "    <tr>\n",
       "      <th>Ephrata PA</th>\n",
       "      <td>99.00</td>\n",
       "      <td>3.42</td>\n",
       "      <td>1.73</td>\n",
       "      <td>1.71</td>\n",
       "      <td>1.82</td>\n",
       "      <td>2.00</td>\n",
       "    </tr>\n",
       "    <tr>\n",
       "      <th>Riverview MI</th>\n",
       "      <td>0.79</td>\n",
       "      <td>1.01</td>\n",
       "      <td>1.25</td>\n",
       "      <td>0.96</td>\n",
       "      <td>0.95</td>\n",
       "      <td>1.11</td>\n",
       "    </tr>\n",
       "    <tr>\n",
       "      <th>Carson CA</th>\n",
       "      <td>99.00</td>\n",
       "      <td>0.80</td>\n",
       "      <td>0.87</td>\n",
       "      <td>99.00</td>\n",
       "      <td>1.00</td>\n",
       "      <td>99.00</td>\n",
       "    </tr>\n",
       "    <tr>\n",
       "      <th>Chamblee GA</th>\n",
       "      <td>99.00</td>\n",
       "      <td>1.23</td>\n",
       "      <td>1.61</td>\n",
       "      <td>1.22</td>\n",
       "      <td>1.33</td>\n",
       "      <td>1.47</td>\n",
       "    </tr>\n",
       "    <tr>\n",
       "      <th>Roseville MN</th>\n",
       "      <td>1.24</td>\n",
       "      <td>1.13</td>\n",
       "      <td>1.89</td>\n",
       "      <td>1.32</td>\n",
       "      <td>1.41</td>\n",
       "      <td>1.41</td>\n",
       "    </tr>\n",
       "    <tr>\n",
       "      <th>Hanover PA</th>\n",
       "      <td>99.00</td>\n",
       "      <td>4.78</td>\n",
       "      <td>2.23</td>\n",
       "      <td>2.39</td>\n",
       "      <td>2.26</td>\n",
       "      <td>2.57</td>\n",
       "    </tr>\n",
       "    <tr>\n",
       "      <th>Sparks NV</th>\n",
       "      <td>99.00</td>\n",
       "      <td>1.45</td>\n",
       "      <td>99.00</td>\n",
       "      <td>1.20</td>\n",
       "      <td>99.00</td>\n",
       "      <td>99.00</td>\n",
       "    </tr>\n",
       "    <tr>\n",
       "      <th>Parsippany NJ</th>\n",
       "      <td>99.00</td>\n",
       "      <td>1.62</td>\n",
       "      <td>1.36</td>\n",
       "      <td>1.39</td>\n",
       "      <td>1.03</td>\n",
       "      <td>1.76</td>\n",
       "    </tr>\n",
       "    <tr>\n",
       "      <th>Effingham IL</th>\n",
       "      <td>0.87</td>\n",
       "      <td>0.87</td>\n",
       "      <td>1.25</td>\n",
       "      <td>0.87</td>\n",
       "      <td>0.90</td>\n",
       "      <td>1.31</td>\n",
       "    </tr>\n",
       "    <tr>\n",
       "      <th>Kearny NJ</th>\n",
       "      <td>99.00</td>\n",
       "      <td>2.01</td>\n",
       "      <td>1.54</td>\n",
       "      <td>1.53</td>\n",
       "      <td>1.28</td>\n",
       "      <td>1.95</td>\n",
       "    </tr>\n",
       "  </tbody>\n",
       "</table>\n",
       "</div>"
      ],
      "text/plain": [
       "                ABCT  IRST   LAST   MRST   NEST   PSST\n",
       "Atlanta GA     99.00  0.88   1.15   0.87   0.95   1.05\n",
       "Everett MA     99.00  1.18   1.27   1.39   1.35   1.28\n",
       "Ephrata PA     99.00  3.42   1.73   1.71   1.82   2.00\n",
       "Riverview MI    0.79  1.01   1.25   0.96   0.95   1.11\n",
       "Carson CA      99.00  0.80   0.87  99.00   1.00  99.00\n",
       "Chamblee GA    99.00  1.23   1.61   1.22   1.33   1.47\n",
       "Roseville MN    1.24  1.13   1.89   1.32   1.41   1.41\n",
       "Hanover PA     99.00  4.78   2.23   2.39   2.26   2.57\n",
       "Sparks NV      99.00  1.45  99.00   1.20  99.00  99.00\n",
       "Parsippany NJ  99.00  1.62   1.36   1.39   1.03   1.76\n",
       "Effingham IL    0.87  0.87   1.25   0.87   0.90   1.31\n",
       "Kearny NJ      99.00  2.01   1.54   1.53   1.28   1.95"
      ]
     },
     "execution_count": 2,
     "metadata": {},
     "output_type": "execute_result"
    }
   ],
   "source": [
    "# Create data frame for cost per mile\n",
    "df = pd.DataFrame.from_dict({\n",
    "    'ABCT':ABCT,\n",
    "    'IRST':IRST,\n",
    "    'LAST':LAST,\n",
    "    'MRST':MRST,\n",
    "    'NEST':NEST,\n",
    "    'PSST':PSST\n",
    "})\n",
    "df.index = Destinations\n",
    "df"
   ]
  },
  {
   "cell_type": "code",
   "execution_count": 3,
   "metadata": {},
   "outputs": [],
   "source": [
    "# Calculate costs & update data frame\n",
    "for i in range(6):\n",
    "    for j in range(12):\n",
    "        df.iloc[j,i] = df.iloc[j,i] * Miles[j] + StopCharge[i] * Stops[j]\n",
    "        if df.iloc[j,i] < MinimumCharge[i]:\n",
    "            df.iloc[j,i] = MinimumCharge[i]"
   ]
  },
  {
   "cell_type": "code",
   "execution_count": 4,
   "metadata": {},
   "outputs": [
    {
     "data": {
      "text/html": [
       "<div>\n",
       "<style scoped>\n",
       "    .dataframe tbody tr th:only-of-type {\n",
       "        vertical-align: middle;\n",
       "    }\n",
       "\n",
       "    .dataframe tbody tr th {\n",
       "        vertical-align: top;\n",
       "    }\n",
       "\n",
       "    .dataframe thead th {\n",
       "        text-align: right;\n",
       "    }\n",
       "</style>\n",
       "<table border=\"1\" class=\"dataframe\">\n",
       "  <thead>\n",
       "    <tr style=\"text-align: right;\">\n",
       "      <th></th>\n",
       "      <th>ABCT</th>\n",
       "      <th>IRST</th>\n",
       "      <th>LAST</th>\n",
       "      <th>MRST</th>\n",
       "      <th>NEST</th>\n",
       "      <th>PSST</th>\n",
       "    </tr>\n",
       "  </thead>\n",
       "  <tbody>\n",
       "    <tr>\n",
       "      <th>Atlanta GA</th>\n",
       "      <td>$60,588</td>\n",
       "      <td>$539</td>\n",
       "      <td>$704</td>\n",
       "      <td>$532</td>\n",
       "      <td>$581</td>\n",
       "      <td>$643</td>\n",
       "    </tr>\n",
       "    <tr>\n",
       "      <th>Everett MA</th>\n",
       "      <td>$60,738</td>\n",
       "      <td>$947</td>\n",
       "      <td>$927</td>\n",
       "      <td>$956</td>\n",
       "      <td>$976</td>\n",
       "      <td>$933</td>\n",
       "    </tr>\n",
       "    <tr>\n",
       "      <th>Ephrata PA</th>\n",
       "      <td>$18,810</td>\n",
       "      <td>$650</td>\n",
       "      <td>$350</td>\n",
       "      <td>$325</td>\n",
       "      <td>$350</td>\n",
       "      <td>$380</td>\n",
       "    </tr>\n",
       "    <tr>\n",
       "      <th>Riverview MI</th>\n",
       "      <td>$350</td>\n",
       "      <td>$400</td>\n",
       "      <td>$479</td>\n",
       "      <td>$368</td>\n",
       "      <td>$364</td>\n",
       "      <td>$425</td>\n",
       "    </tr>\n",
       "    <tr>\n",
       "      <th>Carson CA</th>\n",
       "      <td>$303,337</td>\n",
       "      <td>$2,600</td>\n",
       "      <td>$2,765</td>\n",
       "      <td>$303,307</td>\n",
       "      <td>$3,163</td>\n",
       "      <td>$303,337</td>\n",
       "    </tr>\n",
       "    <tr>\n",
       "      <th>Chamblee GA</th>\n",
       "      <td>$42,471</td>\n",
       "      <td>$528</td>\n",
       "      <td>$691</td>\n",
       "      <td>$523</td>\n",
       "      <td>$571</td>\n",
       "      <td>$631</td>\n",
       "    </tr>\n",
       "    <tr>\n",
       "      <th>Roseville MN</th>\n",
       "      <td>$894</td>\n",
       "      <td>$903</td>\n",
       "      <td>$1,284</td>\n",
       "      <td>$897</td>\n",
       "      <td>$996</td>\n",
       "      <td>$996</td>\n",
       "    </tr>\n",
       "    <tr>\n",
       "      <th>Hanover PA</th>\n",
       "      <td>$13,464</td>\n",
       "      <td>$650</td>\n",
       "      <td>$350</td>\n",
       "      <td>$325</td>\n",
       "      <td>$350</td>\n",
       "      <td>$350</td>\n",
       "    </tr>\n",
       "    <tr>\n",
       "      <th>Sparks NV</th>\n",
       "      <td>$241,461</td>\n",
       "      <td>$3,537</td>\n",
       "      <td>$241,461</td>\n",
       "      <td>$2,927</td>\n",
       "      <td>$241,461</td>\n",
       "      <td>$241,461</td>\n",
       "    </tr>\n",
       "    <tr>\n",
       "      <th>Parsippany NJ</th>\n",
       "      <td>$35,195</td>\n",
       "      <td>$650</td>\n",
       "      <td>$533</td>\n",
       "      <td>$528</td>\n",
       "      <td>$416</td>\n",
       "      <td>$675</td>\n",
       "    </tr>\n",
       "    <tr>\n",
       "      <th>Effingham IL</th>\n",
       "      <td>$496</td>\n",
       "      <td>$496</td>\n",
       "      <td>$712</td>\n",
       "      <td>$496</td>\n",
       "      <td>$513</td>\n",
       "      <td>$747</td>\n",
       "    </tr>\n",
       "    <tr>\n",
       "      <th>Kearny NJ</th>\n",
       "      <td>$32,076</td>\n",
       "      <td>$651</td>\n",
       "      <td>$499</td>\n",
       "      <td>$496</td>\n",
       "      <td>$415</td>\n",
       "      <td>$632</td>\n",
       "    </tr>\n",
       "  </tbody>\n",
       "</table>\n",
       "</div>"
      ],
      "text/plain": [
       "                  ABCT   IRST     LAST     MRST     NEST     PSST\n",
       "Atlanta GA     $60,588   $539     $704     $532     $581     $643\n",
       "Everett MA     $60,738   $947     $927     $956     $976     $933\n",
       "Ephrata PA     $18,810   $650     $350     $325     $350     $380\n",
       "Riverview MI      $350   $400     $479     $368     $364     $425\n",
       "Carson CA     $303,337 $2,600   $2,765 $303,307   $3,163 $303,337\n",
       "Chamblee GA    $42,471   $528     $691     $523     $571     $631\n",
       "Roseville MN      $894   $903   $1,284     $897     $996     $996\n",
       "Hanover PA     $13,464   $650     $350     $325     $350     $350\n",
       "Sparks NV     $241,461 $3,537 $241,461   $2,927 $241,461 $241,461\n",
       "Parsippany NJ  $35,195   $650     $533     $528     $416     $675\n",
       "Effingham IL      $496   $496     $712     $496     $513     $747\n",
       "Kearny NJ      $32,076   $651     $499     $496     $415     $632"
      ]
     },
     "execution_count": 4,
     "metadata": {},
     "output_type": "execute_result"
    }
   ],
   "source": [
    "# Display dollar sign & change to 0 decimal\n",
    "pd.options.display.float_format = '${:,.0f}'.format\n",
    "df"
   ]
  },
  {
   "cell_type": "markdown",
   "metadata": {},
   "source": [
    "### Decision Variables"
   ]
  },
  {
   "cell_type": "code",
   "execution_count": 5,
   "metadata": {},
   "outputs": [],
   "source": [
    "Cnames = list(df.columns)  # Carrier Names\n",
    "Snames = Destinations      # State Names\n",
    "X = []\n",
    "for i in range(6):\n",
    "    X.append([])\n",
    "    for j in range(12):\n",
    "        X[i].append(m.addVar(vtype = GRB.CONTINUOUS, lb = 0.0, name = Cnames[i]+\" \"+Snames[j]))\n",
    "m.update()"
   ]
  },
  {
   "cell_type": "markdown",
   "metadata": {},
   "source": [
    "### Constraints"
   ]
  },
  {
   "cell_type": "code",
   "execution_count": 6,
   "metadata": {},
   "outputs": [],
   "source": [
    "[m.addConstr(quicksum(X[i][j] for i in range(6)), GRB.EQUAL, Trips[j], \"Total Trips\") for j in range(12)]\n",
    "[m.addConstr(quicksum(X[i][j] for j in range(12)), GRB.GREATER_EQUAL, Commitment[i], \"Commitment\") for i in range(6)]\n",
    "[m.addConstr(quicksum(X[i][j] for j in range(12)), GRB.LESS_EQUAL, Available[i], \"Available\") for i in range(6)]\n",
    "m.update()"
   ]
  },
  {
   "cell_type": "markdown",
   "metadata": {},
   "source": [
    "### Objective"
   ]
  },
  {
   "cell_type": "code",
   "execution_count": 7,
   "metadata": {},
   "outputs": [],
   "source": [
    "m.setObjective(quicksum([X[i][j] * df.iloc[j][i] for j in range(12) for i in range(6)]), GRB.MINIMIZE)\n",
    "m.update()"
   ]
  },
  {
   "cell_type": "markdown",
   "metadata": {},
   "source": [
    "### Model Output\n"
   ]
  },
  {
   "cell_type": "code",
   "execution_count": 8,
   "metadata": {},
   "outputs": [
    {
     "name": "stdout",
     "output_type": "stream",
     "text": [
      "Gurobi Optimizer version 9.0.3 build v9.0.3rc0 (win64)\n",
      "Optimize a model with 24 rows, 72 columns and 216 nonzeros\n",
      "Model fingerprint: 0x6be2d406\n",
      "Coefficient statistics:\n",
      "  Matrix range     [1e+00, 1e+00]\n",
      "  Objective range  [3e+02, 3e+05]\n",
      "  Bounds range     [0e+00, 0e+00]\n",
      "  RHS range        [1e+00, 8e+00]\n",
      "Presolve removed 6 rows and 0 columns\n",
      "Presolve time: 0.00s\n",
      "Presolved: 18 rows, 75 columns, 147 nonzeros\n",
      "\n",
      "Iteration    Objective       Primal Inf.    Dual Inf.      Time\n",
      "       0    2.1776310e+04   2.399100e+01   0.000000e+00      0s\n",
      "      17    2.2394380e+04   0.000000e+00   0.000000e+00      0s\n",
      "\n",
      "Solved in 17 iterations and 0.01 seconds\n",
      "Optimal objective  2.239438000e+04\n"
     ]
    }
   ],
   "source": [
    "m.optimize()"
   ]
  },
  {
   "cell_type": "markdown",
   "metadata": {},
   "source": [
    "## Results"
   ]
  },
  {
   "cell_type": "code",
   "execution_count": 9,
   "metadata": {},
   "outputs": [
    {
     "name": "stdout",
     "output_type": "stream",
     "text": [
      "The least cost assignment is $22,394\n",
      "\n",
      "The optimal strategy is:\n",
      "\n",
      "              ABCT IRST LAST MRST NEST PSST\n",
      "Atlanta GA       0    0    0    4    0    0\n",
      "Everett MA       0    0    0    0    0    1\n",
      "Ephrata PA       0    0    1    0    0    2\n",
      "Riverview MI     4    0    0    1    0    0\n",
      "Carson CA        0    1    0    0    0    0\n",
      "Chamblee GA      0    1    0    0    0    0\n",
      "Roseville MN     0    1    0    0    0    0\n",
      "Hanover PA       0    0    0    0    0    1\n",
      "Sparks NV        0    0    0    2    0    0\n",
      "Parsippany NJ    0    0    0    0    1    0\n",
      "Effingham IL     0    5    0    0    0    0\n",
      "Kearny NJ        0    0    5    0    2    0\n"
     ]
    }
   ],
   "source": [
    "dfopt = pd.DataFrame.from_dict({\n",
    "    'ABCT':X[0],\n",
    "    'IRST':X[1],\n",
    "    'LAST':X[2],\n",
    "    'MRST':X[3],\n",
    "    'NEST':X[4],\n",
    "    'PSST':X[5]\n",
    "})\n",
    "for i in range(6):\n",
    "    for j in range(12):\n",
    "        dfopt.iloc[j][i] = '{:,.0f}'.format(X[i][j].x)\n",
    "dfopt.index = Destinations\n",
    "dfopt = pd.DataFrame(dfopt)\n",
    "print(f\"The least cost assignment is ${m.objVal:,.0f}\\n\")\n",
    "\n",
    "print(\"The optimal strategy is:\\n\")\n",
    "print(dfopt)"
   ]
  },
  {
   "attachments": {
    "image.png": {
     "image/png": "[encoded data removed]"
    }
   },
   "cell_type": "markdown",
   "metadata": {},
   "source": [
    "## Recommendation\n",
    "We recommend that we follow the below distribution plan,\n",
    "\n",
    "![image.png](attachment:image.png)\n",
    "\n",
    "The cost of each route by specific carrier is calculated with the cost per mile * miles of the route + stops required to the destination * the cost of making each stop. In case that the cost of each route by specific carrier is not greater than the minimum cost of a single trip by the carrier, we substitute the cost with the minimum cost. Considering the trips needed to the 12 destinations, the minimum commitment required by carriers, and the trucks available by each carrier. We came up with this optimal solution with least cost assignment, $22,394.\n"
   ]
  },
  {
   "cell_type": "markdown",
   "metadata": {},
   "source": [
    "## Approach and Challenges "
   ]
  },
  {
   "cell_type": "markdown",
   "metadata": {},
   "source": [
    "For a better display of the model, I decided to create pandas data frames to display the steps in the model. The first challenge for me was to figure out a way to iterate through pandas data frames elements. It took me a while to figure out that “pandas.iloc” is what I was looking for. This is also a good for loop practice and I am glad that I was able to throw in some list comprehension to make the code look cleaner."
   ]
  }
 ],
 "metadata": {
  "kernelspec": {
   "display_name": "Python 3",
   "language": "python",
   "name": "python3"
  },
  "language_info": {
   "codemirror_mode": {
    "name": "ipython",
    "version": 3
   },
   "file_extension": ".py",
   "mimetype": "text/x-python",
   "name": "python",
   "nbconvert_exporter": "python",
   "pygments_lexer": "ipython3",
   "version": "3.7.7"
  }
 },
 "nbformat": 4,
 "nbformat_minor": 4
}
